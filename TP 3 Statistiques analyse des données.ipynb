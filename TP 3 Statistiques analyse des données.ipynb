{
 "cells": [
  {
   "cell_type": "markdown",
   "id": "c6f48506",
   "metadata": {},
   "source": [
    "# TP 3"
   ]
  },
  {
   "cell_type": "code",
   "execution_count": 2,
   "id": "7b7ea864",
   "metadata": {},
   "outputs": [],
   "source": [
    "import numpy as np\n",
    "import matplotlib.pyplot as plt\n",
    "import scipy.io as sio\n",
    "import numpy as np\n",
    "from sklearn.decomposition import PCA\n",
    "from numpy import linalg as LA"
   ]
  },
  {
   "cell_type": "markdown",
   "id": "90206230",
   "metadata": {},
   "source": [
    "# Part1:"
   ]
  },
  {
   "cell_type": "code",
   "execution_count": 3,
   "id": "bdfe2462",
   "metadata": {},
   "outputs": [],
   "source": [
    "f = open ( 'datamat2.txt' , 'r')\n",
    "X= np.loadtxt(\"datamat2.txt\", delimiter=';')"
   ]
  },
  {
   "cell_type": "code",
   "execution_count": 4,
   "id": "5e9bdda5",
   "metadata": {},
   "outputs": [
    {
     "data": {
      "text/plain": [
       "array([[ 6. ,  6. ,  5. ,  5.5],\n",
       "       [ 8. ,  8. ,  8. ,  8. ],\n",
       "       [ 6. ,  7. , 11. ,  9.5],\n",
       "       [14.5, 15.5, 15.5, 15. ],\n",
       "       [14. , 14. , 12. , 12.5],\n",
       "       [11. , 10. ,  5.5,  7. ],\n",
       "       [ 5.5,  7. , 14. , 11.5],\n",
       "       [13. , 12.5,  8.5,  9.5],\n",
       "       [ 9. ,  9.5, 12.5, 12. ]])"
      ]
     },
     "execution_count": 4,
     "metadata": {},
     "output_type": "execute_result"
    }
   ],
   "source": [
    "X"
   ]
  },
  {
   "cell_type": "code",
   "execution_count": 5,
   "id": "e6483120",
   "metadata": {},
   "outputs": [],
   "source": [
    "# It's a function that returns the eigenvectors (V), eigenvalues and mean vector of a dataset X.\n",
    "#Eigenvalues and respective eigenvectors will be sorted in decreasing order.\n",
    "#meanvect is a vector that contains the mean for each variable.\n",
    "def mypca(X):\n",
    "    meanvect=np.mean(X,axis=0)\n",
    "    Xc=X-meanvect\n",
    "    sigma=(1/Xc.shape[0])*(Xc.T@Xc)\n",
    "\n",
    "    lamb, V=np.linalg.eig(sigma)\n",
    "    \n",
    "    idx = lamb.argsort()[::-1]   \n",
    "    lamb = lamb[idx]\n",
    "    V = V[:,idx]\n",
    "\n",
    "    \n",
    "    return lamb, V, meanvect"
   ]
  },
  {
   "cell_type": "code",
   "execution_count": 6,
   "id": "9fc2be2c",
   "metadata": {},
   "outputs": [],
   "source": [
    "lamb, V, meanvect=mypca(X)"
   ]
  },
  {
   "cell_type": "code",
   "execution_count": 7,
   "id": "bd0543a0",
   "metadata": {},
   "outputs": [
    {
     "data": {
      "text/plain": [
       "array([2.94068813e+01, 1.19860962e+01, 4.09537482e-02, 1.05132178e-02])"
      ]
     },
     "execution_count": 7,
     "metadata": {},
     "output_type": "execute_result"
    }
   ],
   "source": [
    "lamb"
   ]
  },
  {
   "cell_type": "code",
   "execution_count": 8,
   "id": "38ff90dc",
   "metadata": {},
   "outputs": [
    {
     "data": {
      "text/plain": [
       "41.44444444444445"
      ]
     },
     "execution_count": 8,
     "metadata": {},
     "output_type": "execute_result"
    }
   ],
   "source": [
    "TotalValP=sum(lamb)\n",
    "TotalValP"
   ]
  },
  {
   "cell_type": "code",
   "execution_count": 9,
   "id": "5b07db69",
   "metadata": {},
   "outputs": [],
   "source": [
    "#cette fonction calcul le ratio de chaque valeur propre par rapport à l'ensemle des valeurs propres\n",
    "def variance_ratio(lamb):\n",
    "    TotalValP=sum(lamb)\n",
    "    return lamb/TotalValP"
   ]
  },
  {
   "cell_type": "code",
   "execution_count": 10,
   "id": "51b64e63",
   "metadata": {},
   "outputs": [
    {
     "data": {
      "text/plain": [
       "array([7.09549414e-01, 2.89208756e-01, 9.88160144e-04, 2.53670135e-04])"
      ]
     },
     "execution_count": 10,
     "metadata": {},
     "output_type": "execute_result"
    }
   ],
   "source": [
    "variance_ratio(lamb)"
   ]
  },
  {
   "cell_type": "markdown",
   "id": "56e150b8",
   "metadata": {},
   "source": [
    "# les deux composantes contiennent 99,87% de l'information. La première composante contient 70,95% de variance tandis que la deuxième composante contient 28,92%"
   ]
  },
  {
   "cell_type": "code",
   "execution_count": 11,
   "id": "22d61592",
   "metadata": {},
   "outputs": [
    {
     "data": {
      "text/plain": [
       "array([[ 0.50933446,  0.55954974,  0.30420039,  0.578744  ],\n",
       "       [ 0.53890012,  0.3566744 , -0.54804997, -0.53104733],\n",
       "       [ 0.4770486 , -0.66882212, -0.3789763 ,  0.42600302],\n",
       "       [ 0.47179413, -0.33520804,  0.68079389, -0.44896052]])"
      ]
     },
     "execution_count": 11,
     "metadata": {},
     "output_type": "execute_result"
    }
   ],
   "source": [
    "V"
   ]
  },
  {
   "cell_type": "code",
   "execution_count": 12,
   "id": "8d282fe4",
   "metadata": {},
   "outputs": [
    {
     "data": {
      "text/plain": [
       "array([[ 0.50933446,  0.55954974],\n",
       "       [ 0.53890012,  0.3566744 ],\n",
       "       [ 0.4770486 , -0.66882212],\n",
       "       [ 0.47179413, -0.33520804]])"
      ]
     },
     "execution_count": 12,
     "metadata": {},
     "output_type": "execute_result"
    }
   ],
   "source": [
    "V[:,:2]"
   ]
  },
  {
   "cell_type": "code",
   "execution_count": 13,
   "id": "1d9fa994",
   "metadata": {},
   "outputs": [
    {
     "data": {
      "text/plain": [
       "array([ 9.66666667,  9.94444444, 10.22222222, 10.05555556])"
      ]
     },
     "execution_count": 13,
     "metadata": {},
     "output_type": "execute_result"
    }
   ],
   "source": [
    "meanvect"
   ]
  },
  {
   "cell_type": "code",
   "execution_count": 14,
   "id": "4e06904f",
   "metadata": {},
   "outputs": [],
   "source": [
    "# this function allow to project a data matrix X onto the eigenvectors stored in P.\n",
    "def pcaproj(X, meanvect, P):\n",
    "    Xc=X-meanvect\n",
    "    CI=Xc@P\n",
    "    return CI"
   ]
  },
  {
   "cell_type": "code",
   "execution_count": 15,
   "id": "1acfd35d",
   "metadata": {},
   "outputs": [
    {
     "name": "stdout",
     "output_type": "stream",
     "text": [
      "[[-8.63375944e+00  1.56123188e+00 -7.59447024e-02 -2.06792498e-01]\n",
      " [-3.92665916e+00  5.49193682e-01  1.41196259e-03  4.42086065e-02]\n",
      " [-3.34539121e+00 -3.43585862e+00 -1.74676903e-01  2.23362164e-02]\n",
      " [ 1.03061891e+01 -5.01297226e-01 -2.08425301e-01 -1.24511345e-01]\n",
      " [ 6.39401632e+00  1.86281384e+00  8.59817800e-02  1.40783773e-02]\n",
      " [-2.98527115e+00  4.94845505e+00  8.45600417e-02  1.02298918e-01]\n",
      " [-1.22532439e+00 -6.39251594e+00 -1.02118212e-01  1.13052239e-01]\n",
      " [ 1.99127919e+00  4.11475405e+00 -1.12108278e-01  8.77763568e-02]\n",
      " [ 1.42492070e+00 -2.70677670e+00  5.01319612e-01 -5.24468708e-02]]\n",
      "(9, 4)\n"
     ]
    }
   ],
   "source": [
    "C = pcaproj(X, meanvect, V) \n",
    "print(C)\n",
    "print(C.shape)"
   ]
  },
  {
   "cell_type": "code",
   "execution_count": 16,
   "id": "3eaa793c",
   "metadata": {},
   "outputs": [],
   "source": [
    "# This function compute the reconstruction of X knowing its principal components ci containing in C and the eigenvectors containing in P\n",
    "def reconstructpca(C, P, meanvect):\n",
    "    Xhat=meanvect+C@P.T\n",
    "    return Xhat\n",
    "    "
   ]
  },
  {
   "cell_type": "code",
   "execution_count": 17,
   "id": "0265094c",
   "metadata": {},
   "outputs": [
    {
     "name": "stdout",
     "output_type": "stream",
     "text": [
      "[[ 6.   6.   5.   5.5]\n",
      " [ 8.   8.   8.   8. ]\n",
      " [ 6.   7.  11.   9.5]\n",
      " [14.5 15.5 15.5 15. ]\n",
      " [14.  14.  12.  12.5]\n",
      " [11.  10.   5.5  7. ]\n",
      " [ 5.5  7.  14.  11.5]\n",
      " [13.  12.5  8.5  9.5]\n",
      " [ 9.   9.5 12.5 12. ]]\n",
      "(9, 4)\n"
     ]
    }
   ],
   "source": [
    "Xhat = reconstructpca(C, V, meanvect) \n",
    "print(Xhat)\n",
    "print(Xhat.shape)"
   ]
  },
  {
   "cell_type": "code",
   "execution_count": 18,
   "id": "97865588",
   "metadata": {},
   "outputs": [
    {
     "data": {
      "text/plain": [
       "array([[-4.44089210e-15,  9.76996262e-15,  1.77635684e-15,\n",
       "        -6.21724894e-15],\n",
       "       [ 1.77635684e-15, -1.77635684e-15, -1.77635684e-15,\n",
       "         1.77635684e-15],\n",
       "       [-3.55271368e-15,  5.32907052e-15, -3.55271368e-15,\n",
       "         5.32907052e-15],\n",
       "       [-1.42108547e-14,  1.06581410e-14,  0.00000000e+00,\n",
       "         0.00000000e+00],\n",
       "       [ 0.00000000e+00, -3.55271368e-15,  1.77635684e-15,\n",
       "        -1.77635684e-15],\n",
       "       [ 5.32907052e-15, -7.10542736e-15, -2.66453526e-15,\n",
       "         3.55271368e-15],\n",
       "       [ 1.77635684e-15,  0.00000000e+00, -3.55271368e-15,\n",
       "         7.10542736e-15],\n",
       "       [-5.32907052e-15,  0.00000000e+00, -7.10542736e-15,\n",
       "         8.88178420e-15],\n",
       "       [ 1.95399252e-14, -1.59872116e-14,  1.59872116e-14,\n",
       "        -1.77635684e-14]])"
      ]
     },
     "execution_count": 18,
     "metadata": {},
     "output_type": "execute_result"
    }
   ],
   "source": [
    "Xhat-X"
   ]
  },
  {
   "cell_type": "markdown",
   "id": "e508fdcd",
   "metadata": {},
   "source": [
    "## La matrice Xhat obtenue suite à la reconstruction pca en se basant sur toutes les composantes est presque égal à la matrice initiale"
   ]
  },
  {
   "cell_type": "markdown",
   "id": "e674b6ef",
   "metadata": {},
   "source": [
    "# ci-aprés la matrice XhatR obtenue suite à la reconstruction pca en se basant sur les deux plus grandes valeurs propres"
   ]
  },
  {
   "cell_type": "code",
   "execution_count": 19,
   "id": "5819a3af",
   "metadata": {},
   "outputs": [
    {
     "name": "stdout",
     "output_type": "stream",
     "text": [
      "(4, 2)\n",
      "(9, 2)\n",
      "[[ 6.14278233  5.8485619   5.05931299  5.45886102]\n",
      " [ 7.97398501  8.02425069  7.9817021   8.01888666]\n",
      " [ 6.04020983  6.91612992 10.9242863   9.62894705]\n",
      " [14.63546325 15.3196511  15.47405396 15.08599399]\n",
      " [13.96569653 14.0545986  12.02658763 12.44778477]\n",
      " [10.91507192 10.1006687   5.4884666   6.98836022]\n",
      " [ 5.46563609  7.00407021 13.91313902 11.62027745]\n",
      " [12.98330334 12.48517246  8.42012063  9.61573075]\n",
      " [ 8.87785169  9.74689643 12.71233078 11.6351581 ]]\n",
      "(9, 4)\n"
     ]
    }
   ],
   "source": [
    "VR=V[:,:2]\n",
    "CR=C[:,:2]\n",
    "print(VR.shape)\n",
    "print(CR.shape)\n",
    "XhatR = reconstructpca(CR, VR, meanvect) \n",
    "print(XhatR)\n",
    "print(XhatR.shape)"
   ]
  },
  {
   "cell_type": "code",
   "execution_count": 20,
   "id": "29cd9ad0",
   "metadata": {},
   "outputs": [
    {
     "data": {
      "image/png": "[encoded data removed]",
      "text/plain": [
       "<Figure size 432x288 with 1 Axes>"
      ]
     },
     "metadata": {
      "needs_background": "light"
     },
     "output_type": "display_data"
    }
   ],
   "source": [
    "plt.scatter(X[:,0], X[:,1], label=\"X\")\n",
    "plt.scatter(Xhat[:,0], Xhat[:,1], label=\"Xhat\")\n",
    "plt.scatter(XhatR[:,0], XhatR[:,1], label=\"XhatR\")\n",
    "plt.grid(True)\n",
    "plt.legend()\n",
    "plt.show()\n"
   ]
  },
  {
   "cell_type": "markdown",
   "id": "a7d336f0",
   "metadata": {},
   "source": [
    "## La représentation de X ( données initiales) et Xhat (la matrice reconstruite avec d=4) et XhatR (la matrice reconstruite avec d=2), nous montre que la différence entre XhatR et X n'est pas aussi importante. "
   ]
  },
  {
   "cell_type": "code",
   "execution_count": 21,
   "id": "e8dae048",
   "metadata": {},
   "outputs": [
    {
     "data": {
      "text/plain": [
       "0.05146696602755967"
      ]
     },
     "execution_count": 21,
     "metadata": {},
     "output_type": "execute_result"
    }
   ],
   "source": [
    "loss = np.sum((X - XhatR) ** 2, axis=1).mean()\n",
    "loss"
   ]
  },
  {
   "cell_type": "markdown",
   "id": "7a6af7b9",
   "metadata": {},
   "source": [
    "## L'erreur obtenue suite à la reconstruction avec d=2 est de l'ordre de 0.05"
   ]
  },
  {
   "cell_type": "markdown",
   "id": "79efdce8",
   "metadata": {},
   "source": [
    "## PCA skitlearn"
   ]
  },
  {
   "cell_type": "code",
   "execution_count": 22,
   "id": "66276ac2",
   "metadata": {},
   "outputs": [
    {
     "name": "stdout",
     "output_type": "stream",
     "text": [
      "[0.70954941 0.28920876]\n",
      "[[ 0.50933446  0.53890012  0.4770486   0.47179413]\n",
      " [-0.55954974 -0.3566744   0.66882212  0.33520804]]\n",
      "[16.26843359 10.38628258]\n"
     ]
    }
   ],
   "source": [
    "pca = PCA(n_components=2)\n",
    "pca.fit(X)\n",
    "PCA(n_components=2)\n",
    "print(pca.explained_variance_ratio_)\n",
    "print(pca.components_)\n",
    "print(pca.singular_values_)\n"
   ]
  },
  {
   "cell_type": "markdown",
   "id": "a65895da",
   "metadata": {},
   "source": [
    "# les deux composantes contiennent 99,87% de l'information. La première composante contient 70,95% de variance tandis que la deuxième composante contient 28,92%"
   ]
  },
  {
   "cell_type": "code",
   "execution_count": 23,
   "id": "5baa338f",
   "metadata": {},
   "outputs": [
    {
     "name": "stdout",
     "output_type": "stream",
     "text": [
      "[[-8.63375944 -1.56123188]\n",
      " [-3.92665916 -0.54919368]\n",
      " [-3.34539121  3.43585862]\n",
      " [10.30618914  0.50129723]\n",
      " [ 6.39401632 -1.86281384]\n",
      " [-2.98527115 -4.94845505]\n",
      " [-1.22532439  6.39251594]\n",
      " [ 1.99127919 -4.11475405]\n",
      " [ 1.4249207   2.7067767 ]]\n"
     ]
    }
   ],
   "source": [
    "Cpca = pca.transform(X)\n",
    "print(Cpca)"
   ]
  },
  {
   "cell_type": "code",
   "execution_count": 24,
   "id": "8a5a234c",
   "metadata": {},
   "outputs": [
    {
     "data": {
      "text/plain": [
       "array([[-8.63375944, -1.56123188],\n",
       "       [-3.92665916, -0.54919368],\n",
       "       [-3.34539121,  3.43585862],\n",
       "       [10.30618914,  0.50129723],\n",
       "       [ 6.39401632, -1.86281384],\n",
       "       [-2.98527115, -4.94845505],\n",
       "       [-1.22532439,  6.39251594],\n",
       "       [ 1.99127919, -4.11475405],\n",
       "       [ 1.4249207 ,  2.7067767 ]])"
      ]
     },
     "execution_count": 24,
     "metadata": {},
     "output_type": "execute_result"
    }
   ],
   "source": [
    "Xath_pca = pca.fit_transform(X)\n",
    "Xath_pca"
   ]
  },
  {
   "cell_type": "code",
   "execution_count": 25,
   "id": "5ded1796",
   "metadata": {},
   "outputs": [
    {
     "data": {
      "text/plain": [
       "array([[ 6.14278233,  5.8485619 ,  5.05931299,  5.45886102],\n",
       "       [ 7.97398501,  8.02425069,  7.9817021 ,  8.01888666],\n",
       "       [ 6.04020983,  6.91612992, 10.9242863 ,  9.62894705],\n",
       "       [14.63546325, 15.3196511 , 15.47405396, 15.08599399],\n",
       "       [13.96569653, 14.0545986 , 12.02658763, 12.44778477],\n",
       "       [10.91507192, 10.1006687 ,  5.4884666 ,  6.98836022],\n",
       "       [ 5.46563609,  7.00407021, 13.91313902, 11.62027745],\n",
       "       [12.98330334, 12.48517246,  8.42012063,  9.61573075],\n",
       "       [ 8.87785169,  9.74689643, 12.71233078, 11.6351581 ]])"
      ]
     },
     "execution_count": 25,
     "metadata": {},
     "output_type": "execute_result"
    }
   ],
   "source": [
    "Xproj = pca.inverse_transform(Xath_pca)\n",
    "Xproj"
   ]
  },
  {
   "cell_type": "code",
   "execution_count": 26,
   "id": "2ab8ba75",
   "metadata": {},
   "outputs": [
    {
     "data": {
      "text/plain": [
       "0.05146696602755988"
      ]
     },
     "execution_count": 26,
     "metadata": {},
     "output_type": "execute_result"
    }
   ],
   "source": [
    "loss = np.sum((X - Xproj) ** 2, axis=1).mean()\n",
    "loss"
   ]
  },
  {
   "cell_type": "markdown",
   "id": "7343edd6",
   "metadata": {},
   "source": [
    "# En final avec les fonctions de skitlearn, j'ai obtenu les mêmes résultats que les fonctions développées par mes soins"
   ]
  },
  {
   "cell_type": "markdown",
   "id": "d0741a7e",
   "metadata": {},
   "source": [
    "# Part2:"
   ]
  },
  {
   "cell_type": "markdown",
   "id": "b693a11b",
   "metadata": {},
   "source": [
    "# J'ai choisi le chiffre 3"
   ]
  },
  {
   "cell_type": "code",
   "execution_count": 27,
   "id": "1cba7f14",
   "metadata": {},
   "outputs": [
    {
     "data": {
      "text/plain": [
       "<matplotlib.image.AxesImage at 0x1d9f72d0ca0>"
      ]
     },
     "execution_count": 27,
     "metadata": {},
     "output_type": "execute_result"
    },
    {
     "data": {
      "image/png": "[encoded data removed]",
      "text/plain": [
       "<Figure size 432x288 with 1 Axes>"
      ]
     },
     "metadata": {
      "needs_background": "light"
     },
     "output_type": "display_data"
    }
   ],
   "source": [
    "myusps = sio.loadmat('usps.mat') \n",
    "Xall=myusps['x']\n",
    "y=myusps['y']\n",
    "#just to see the first digit\n",
    "firstdigit=np.reshape(Xall[15,:], (16, 16)) \n",
    "plt.imshow(firstdigit, cmap='gray')\n",
    "\n",
    "# tip: use np.where to get the chosen digit!\n"
   ]
  },
  {
   "cell_type": "code",
   "execution_count": 75,
   "id": "9a234c49",
   "metadata": {},
   "outputs": [
    {
     "data": {
      "text/plain": [
       "(16, 16)"
      ]
     },
     "execution_count": 75,
     "metadata": {},
     "output_type": "execute_result"
    }
   ],
   "source": [
    "firstdigit.shape"
   ]
  },
  {
   "cell_type": "code",
   "execution_count": 33,
   "id": "88a2085b",
   "metadata": {},
   "outputs": [
    {
     "data": {
      "text/plain": [
       "array([[0., 0., 0., ..., 0., 0., 0.],\n",
       "       [0., 0., 0., ..., 0., 0., 0.],\n",
       "       [0., 0., 0., ..., 0., 0., 0.],\n",
       "       ...,\n",
       "       [0., 0., 0., ..., 0., 0., 0.],\n",
       "       [0., 0., 0., ..., 0., 0., 0.],\n",
       "       [0., 0., 0., ..., 0., 0., 0.]])"
      ]
     },
     "execution_count": 33,
     "metadata": {},
     "output_type": "execute_result"
    }
   ],
   "source": [
    "Xall"
   ]
  },
  {
   "cell_type": "code",
   "execution_count": 76,
   "id": "be09213b",
   "metadata": {},
   "outputs": [],
   "source": [
    "lamba, Va, meanvecta=mypca(firstdigit)"
   ]
  },
  {
   "cell_type": "code",
   "execution_count": 77,
   "id": "f82dad2d",
   "metadata": {},
   "outputs": [
    {
     "data": {
      "text/plain": [
       "array([ 2.43054052e+00,  1.26309328e+00,  5.61481245e-01,  2.80585793e-01,\n",
       "        7.91027628e-02,  1.58743825e-02,  1.32367585e-02,  7.37011112e-03,\n",
       "        2.29570264e-03,  7.77156744e-04,  5.13845515e-04,  2.36731303e-04,\n",
       "        1.14917941e-04,  4.21845128e-05,  1.04313059e-05, -3.51777644e-18])"
      ]
     },
     "execution_count": 77,
     "metadata": {},
     "output_type": "execute_result"
    }
   ],
   "source": [
    "lamba"
   ]
  },
  {
   "cell_type": "code",
   "execution_count": 78,
   "id": "1c7c2c58",
   "metadata": {},
   "outputs": [
    {
     "data": {
      "text/plain": [
       "16"
      ]
     },
     "execution_count": 78,
     "metadata": {},
     "output_type": "execute_result"
    }
   ],
   "source": [
    "len(lamba)"
   ]
  },
  {
   "cell_type": "code",
   "execution_count": 80,
   "id": "4a6f135e",
   "metadata": {},
   "outputs": [
    {
     "data": {
      "text/plain": [
       "array([ 5.22104514e-01,  2.71325122e-01,  1.20611811e-01,  6.02726463e-02,\n",
       "        1.69920679e-02,  3.40997680e-03,  2.84338867e-03,  1.58317389e-03,\n",
       "        4.93139984e-04,  1.66941074e-04,  1.10379177e-04,  5.08522615e-05,\n",
       "        2.46855279e-05,  9.06165703e-06,  2.24074927e-06, -7.55653710e-19])"
      ]
     },
     "execution_count": 80,
     "metadata": {},
     "output_type": "execute_result"
    }
   ],
   "source": [
    "variance_ratio(lamba)"
   ]
  },
  {
   "cell_type": "code",
   "execution_count": 108,
   "id": "53954327",
   "metadata": {},
   "outputs": [
    {
     "name": "stderr",
     "output_type": "stream",
     "text": [
      "No handles with labels found to put in legend.\n"
     ]
    },
    {
     "data": {
      "image/png": "[encoded data removed]",
      "text/plain": [
       "<Figure size 432x288 with 1 Axes>"
      ]
     },
     "metadata": {
      "needs_background": "light"
     },
     "output_type": "display_data"
    }
   ],
   "source": [
    "plt.plot(np.cumsum(variance_ratio(lamba)*100))\n",
    "plt.grid(True)\n",
    "plt.title('ratios variance cummulés')\n",
    "plt.xlabel('index')\n",
    "plt.ylabel('% ratio variance cummulé')\n",
    "plt.legend()\n",
    "plt.show()"
   ]
  },
  {
   "cell_type": "code",
   "execution_count": 82,
   "id": "b38f7b66",
   "metadata": {},
   "outputs": [],
   "source": [
    "cum_variance_ratio=np.cumsum(variance_ratio(lamba)*100)"
   ]
  },
  {
   "cell_type": "code",
   "execution_count": 94,
   "id": "b354a3e7",
   "metadata": {},
   "outputs": [
    {
     "data": {
      "text/plain": [
       "array([ 52.21045138,  79.34296355,  91.4041446 ,  97.43140923,\n",
       "        99.13061602,  99.4716137 ,  99.75595257,  99.91426996,\n",
       "        99.96358396,  99.98027806,  99.99131598,  99.99640121,\n",
       "        99.99886976,  99.99977593, 100.        , 100.        ])"
      ]
     },
     "execution_count": 94,
     "metadata": {},
     "output_type": "execute_result"
    }
   ],
   "source": [
    "cum_variance_ratio"
   ]
  },
  {
   "cell_type": "code",
   "execution_count": 83,
   "id": "70fd5e16",
   "metadata": {},
   "outputs": [
    {
     "data": {
      "text/plain": [
       "2"
      ]
     },
     "execution_count": 83,
     "metadata": {},
     "output_type": "execute_result"
    }
   ],
   "source": [
    "np.where(cum_variance_ratio>=90)[0][0]"
   ]
  },
  {
   "cell_type": "code",
   "execution_count": 84,
   "id": "107c8687",
   "metadata": {},
   "outputs": [
    {
     "data": {
      "text/plain": [
       "91.40414460184735"
      ]
     },
     "execution_count": 84,
     "metadata": {},
     "output_type": "execute_result"
    }
   ],
   "source": [
    "cum_variance_ratio[2]"
   ]
  },
  {
   "cell_type": "markdown",
   "id": "89cdd81c",
   "metadata": {},
   "source": [
    "# En analysant l'illustration en dessus des ratios de variation cumulés, nous pourrons dire que à partir du troisième eigen value on a 90%de variance."
   ]
  },
  {
   "cell_type": "code",
   "execution_count": 110,
   "id": "950b6c4e",
   "metadata": {},
   "outputs": [
    {
     "name": "stderr",
     "output_type": "stream",
     "text": [
      "No handles with labels found to put in legend.\n"
     ]
    },
    {
     "data": {
      "image/png": "[encoded data removed]",
      "text/plain": [
       "<Figure size 432x288 with 1 Axes>"
      ]
     },
     "metadata": {
      "needs_background": "light"
     },
     "output_type": "display_data"
    }
   ],
   "source": [
    "plt.plot(lamba)\n",
    "plt.grid(True)\n",
    "plt.title('eigen values')\n",
    "plt.xlabel('index')\n",
    "plt.ylabel('eigen value')\n",
    "plt.legend()\n",
    "plt.show()"
   ]
  },
  {
   "cell_type": "code",
   "execution_count": 86,
   "id": "29d63501",
   "metadata": {},
   "outputs": [
    {
     "data": {
      "text/plain": [
       "array([[-2.35874787e-02,  1.28575979e-02,  3.18431976e-02,\n",
       "        -4.24751899e-02,  2.41396575e-02, -3.14724762e-01,\n",
       "         2.59298027e-02, -8.99744746e-02, -6.36469961e-02,\n",
       "        -1.22259064e-01, -3.77202886e-02,  7.01011065e-01,\n",
       "         3.00334662e-01,  5.28184398e-01,  8.16283252e-02,\n",
       "         1.94324225e-02],\n",
       "       [-6.61089892e-02,  3.53329731e-02,  4.79428913e-02,\n",
       "         2.95876578e-02, -2.38475351e-02, -6.67687474e-01,\n",
       "        -2.94520534e-01, -1.22464016e-01,  7.43674722e-02,\n",
       "        -3.19974755e-01, -1.35068019e-01, -2.75323328e-01,\n",
       "         1.83010588e-01, -2.49402849e-01,  2.52548335e-01,\n",
       "        -2.85755484e-01],\n",
       "       [-5.94397581e-02,  8.78527107e-02,  5.15118795e-02,\n",
       "         2.86551089e-01, -2.80613937e-01, -4.12551151e-01,\n",
       "        -3.51902918e-01,  1.05697273e-01,  3.56963838e-02,\n",
       "         3.31519234e-01,  1.71137331e-01,  5.31227834e-02,\n",
       "        -2.42812364e-01,  5.03666459e-02, -5.18132453e-01,\n",
       "         2.16306431e-01],\n",
       "       [-1.52074067e-01,  5.71696723e-02, -9.03934025e-02,\n",
       "         3.84859937e-01, -6.34592596e-01,  1.92218448e-01,\n",
       "         3.35706906e-02,  1.59884191e-02, -2.90050597e-01,\n",
       "         1.55763791e-01,  1.26398992e-01,  1.27675633e-01,\n",
       "         1.89477119e-01, -1.32204876e-01,  3.14438400e-01,\n",
       "        -2.88717784e-01],\n",
       "       [-3.22038504e-01, -5.15077860e-02, -3.42320099e-01,\n",
       "         3.10448149e-01, -1.94064801e-01,  1.00764560e-01,\n",
       "         8.17375588e-02, -2.99953287e-01,  8.25398752e-02,\n",
       "        -4.15523992e-01, -3.20314390e-01, -2.28234005e-01,\n",
       "        -1.26651466e-01,  3.20079691e-01, -1.14555992e-01,\n",
       "         2.64252974e-01],\n",
       "       [-4.53634263e-01, -1.44187421e-01, -3.19706155e-01,\n",
       "         2.15943454e-01,  3.13763963e-01, -1.54443029e-01,\n",
       "         3.51614834e-01,  2.16947524e-02,  3.72333602e-01,\n",
       "         1.68997481e-01,  3.52820203e-01,  9.20239947e-02,\n",
       "         1.72695354e-01, -2.02440442e-01, -3.85924224e-02,\n",
       "        -7.57631245e-02],\n",
       "       [-5.27771380e-01, -8.23066850e-02, -2.25728539e-02,\n",
       "        -3.94320011e-02,  2.75511288e-01, -7.32508765e-02,\n",
       "        -9.08378747e-02,  3.65656110e-01, -5.32891623e-01,\n",
       "         6.39652760e-02, -3.16975282e-01,  1.03708866e-01,\n",
       "        -2.63586783e-01, -9.03641801e-02,  1.06602999e-01,\n",
       "         3.29957404e-02],\n",
       "       [-4.87182871e-01, -1.12223527e-01,  2.81519020e-01,\n",
       "        -2.65971053e-01, -7.34047744e-02,  2.82359886e-01,\n",
       "        -4.16915823e-01,  1.07065349e-01,  1.92673138e-01,\n",
       "        -3.58226950e-02,  2.30572997e-01, -1.99646176e-01,\n",
       "         2.49857410e-01,  3.23873420e-01, -6.93351694e-02,\n",
       "        -1.61583482e-01],\n",
       "       [-2.49533886e-01, -3.00559569e-01,  5.09445934e-01,\n",
       "        -1.70296365e-01, -2.77723448e-01, -2.60664404e-02,\n",
       "         1.86489824e-01, -3.25685902e-01,  2.15995076e-01,\n",
       "         2.08933386e-02, -1.63298133e-01,  2.54778692e-01,\n",
       "        -1.91956473e-01, -3.42103063e-01,  5.72724788e-02,\n",
       "         2.10642929e-01],\n",
       "       [ 1.13100270e-01, -4.29705738e-01,  4.61441952e-01,\n",
       "         3.77022190e-01,  1.32521525e-01, -1.33067657e-01,\n",
       "         3.26626259e-01,  2.74237003e-02, -3.05019164e-01,\n",
       "        -8.71787002e-02,  2.00724276e-01, -2.84753221e-01,\n",
       "         2.25812782e-02,  2.59321003e-01, -7.80162035e-02,\n",
       "        -9.44769786e-02],\n",
       "       [ 2.37767613e-01, -5.55590232e-01, -8.00807958e-02,\n",
       "         3.42687679e-01,  8.10663495e-02,  1.94777993e-01,\n",
       "        -3.79522756e-01,  2.82005436e-01,  2.61192207e-01,\n",
       "        -9.00905214e-02, -2.73245051e-01,  2.33195079e-01,\n",
       "         1.21027036e-01, -1.49485715e-01, -9.25070357e-03,\n",
       "        -2.00971870e-02],\n",
       "       [ 9.28064954e-02, -5.40842184e-01, -3.83730200e-01,\n",
       "        -3.03808545e-01, -8.75026554e-02, -1.53265011e-01,\n",
       "        -1.48414981e-01, -2.85984499e-01, -1.41982250e-01,\n",
       "         3.69823251e-01,  1.35563759e-01, -1.46486263e-01,\n",
       "        -1.20986085e-01,  1.84057720e-01,  2.68913997e-01,\n",
       "         8.23018887e-02],\n",
       "       [ 2.86171381e-02, -2.55526134e-01, -2.32476562e-01,\n",
       "        -4.05188948e-01, -3.40858521e-01, -1.08360746e-01,\n",
       "         2.72064341e-01,  2.63760551e-01, -1.34592594e-01,\n",
       "        -2.63395017e-01, -4.07526578e-02,  2.70700809e-02,\n",
       "         1.21288062e-01, -1.25075214e-01, -5.13678866e-01,\n",
       "        -2.45035818e-01],\n",
       "       [ 4.31400305e-02, -8.66266572e-04,  1.80420514e-03,\n",
       "        -7.36938609e-02, -2.58300443e-01, -1.59589525e-01,\n",
       "         1.70169591e-01,  6.03070589e-01,  2.78775809e-01,\n",
       "        -1.86942595e-01,  1.83575776e-01, -7.44891807e-02,\n",
       "        -2.23459046e-01,  1.58450852e-01,  4.30511816e-01,\n",
       "         3.09145849e-01],\n",
       "       [-2.55066445e-04,  5.21731351e-02,  6.25837940e-02,\n",
       "         9.78093908e-03, -6.73077028e-02, -8.25080880e-02,\n",
       "         2.28028879e-01,  1.10936748e-01,  3.29916565e-01,\n",
       "         4.42251806e-01, -5.21263569e-01, -1.18882156e-01,\n",
       "        -1.33741510e-01,  3.11144611e-01,  1.22286543e-02,\n",
       "        -4.60972755e-01],\n",
       "       [-1.20673365e-02,  2.44535572e-02,  5.11322555e-02,\n",
       "        -3.46557683e-02, -6.03175998e-02, -7.11540046e-02,\n",
       "         1.12857168e-01,  1.27127129e-01, -7.56732892e-02,\n",
       "         2.98451056e-01, -2.95423458e-01, -2.45428217e-01,\n",
       "         6.74167551e-01, -6.51548321e-02, -1.77897461e-02,\n",
       "         5.06427386e-01]])"
      ]
     },
     "execution_count": 86,
     "metadata": {},
     "output_type": "execute_result"
    }
   ],
   "source": [
    "Va"
   ]
  },
  {
   "cell_type": "code",
   "execution_count": 87,
   "id": "40ea7523",
   "metadata": {},
   "outputs": [
    {
     "data": {
      "text/plain": [
       "array([ 0.01168409,  0.02420785,  0.1005483 ,  0.29796991,  0.47666608,\n",
       "        0.71144237,  0.84779912,  0.99171688,  1.06043665,  1.20013901,\n",
       "        1.03709016,  0.56132023,  0.15654288, -0.02161231, -0.0267786 ,\n",
       "        0.00384093])"
      ]
     },
     "execution_count": 87,
     "metadata": {},
     "output_type": "execute_result"
    }
   ],
   "source": [
    "meanvecta"
   ]
  },
  {
   "cell_type": "code",
   "execution_count": 88,
   "id": "4011669c",
   "metadata": {},
   "outputs": [
    {
     "name": "stdout",
     "output_type": "stream",
     "text": [
      "[[-4.80484735e-01  2.19012078e+00 -1.56225969e+00  3.53949531e-01\n",
      "  -1.32203117e-01 -1.49634751e-01  9.83658221e-02 -3.82498363e-02\n",
      "   3.96796835e-02  4.68324789e-03 -1.93002936e-02 -1.75275846e-02\n",
      "   1.03556031e-03  4.79032713e-04  3.23257994e-03 -2.52698823e-15]\n",
      " [-1.87726974e+00  3.95086700e-01  2.93518694e-01  5.07828465e-01\n",
      "  -4.91910706e-01  8.48750090e-02 -3.33054480e-02 -1.90387235e-01\n",
      "   2.88877748e-02 -5.56238141e-03  1.97139584e-02  2.14023917e-02\n",
      "  -4.14696373e-03 -1.68674968e-03 -2.34568723e-03  1.99257596e-15]\n",
      " [-3.45340974e-01 -7.23067276e-01  8.68540893e-01 -1.37532298e-01\n",
      "  -2.11949899e-01  1.77094112e-01 -1.60689555e-01  2.16560071e-03\n",
      "   6.19459099e-02  1.06600350e-02 -1.43748221e-02 -3.06193435e-02\n",
      "   9.64780490e-03 -7.95909262e-04  4.11832349e-03 -3.37143340e-15]\n",
      " [ 2.06590012e+00 -7.34869935e-02 -5.50798194e-01 -7.10068095e-01\n",
      "  -2.98807435e-01  1.39352304e-02 -1.09874090e-01 -5.72607930e-02\n",
      "  -6.94832806e-02  2.28502083e-02 -1.17286835e-02 -1.31653012e-02\n",
      "  -1.52417405e-02  6.72362459e-03 -4.00370923e-03 -4.45057869e-16]\n",
      " [ 1.36429226e+00 -1.13890352e+00 -1.00765243e+00 -5.54025267e-01\n",
      "  -3.85597828e-01 -3.24855110e-02 -1.43672927e-02  7.65344423e-02\n",
      "  -3.91589571e-03 -1.10027037e-02  1.19543874e-03  1.94395850e-02\n",
      "   1.27308701e-02 -1.33979883e-02  1.12496418e-03  5.68624299e-15]\n",
      " [-8.60152599e-01 -2.31322207e+00 -5.94581747e-01 -1.39234404e-01\n",
      "  -4.63120146e-02 -3.13742349e-02  1.41276981e-01  2.89861826e-02\n",
      "   2.90442928e-02 -3.05802245e-02  3.58832723e-02 -8.51981746e-03\n",
      "  -4.89123798e-03  1.17971495e-02  1.28758343e-03 -7.76589130e-15]\n",
      " [-2.31883211e+00 -1.64687808e+00 -2.50217796e-01 -2.42938112e-01\n",
      "   4.34938077e-01  1.74826805e-02  6.11761328e-02 -6.21341932e-02\n",
      "   7.41503312e-03  1.08859965e-02 -5.26432952e-02  8.06554071e-03\n",
      "  -8.67929140e-03 -4.58376637e-03 -1.03774507e-03  6.45596835e-15]\n",
      " [-1.60685019e+00  5.76427903e-01 -6.17205565e-02 -6.55350557e-01\n",
      "   3.92480583e-01 -2.67254058e-02  2.22476848e-03 -6.80500393e-02\n",
      "  -4.98741279e-02  4.23006213e-02  4.23260271e-02 -6.72702104e-03\n",
      "   1.63052467e-02 -2.40186583e-03 -1.56991645e-04 -4.07003326e-15]\n",
      " [-2.69551940e-01  1.39486459e+00  9.71650382e-01 -7.84501491e-01\n",
      "   2.18085863e-02 -2.64797695e-02  1.55398799e-02 -2.01929649e-02\n",
      "  -4.77368381e-02 -5.95657639e-02 -1.87711318e-02  1.33351094e-02\n",
      "   4.67652257e-03  6.32401609e-03  3.67928502e-03 -3.06639940e-16]\n",
      " [ 9.51379854e-01  6.67307289e-01  1.38342447e+00 -4.46647551e-01\n",
      "  -5.19560102e-02 -1.10654658e-01  1.62862902e-01  6.04609232e-02\n",
      "   5.40658123e-02  2.13687462e-02  1.45443976e-02 -3.02522112e-03\n",
      "  -1.89002198e-02 -7.75670439e-03 -2.10617944e-04  3.51486442e-15]\n",
      " [ 1.59934229e+00  7.55142797e-02  4.85424993e-01  3.63309916e-01\n",
      "  -5.19967431e-02  7.14321722e-02  1.95332000e-01  3.22382624e-02\n",
      "   1.68210994e-02  1.97246417e-02 -2.05104927e-02  5.38967228e-03\n",
      "   2.14394049e-02  7.39630097e-03 -5.41599696e-03 -3.47511018e-15]\n",
      " [ 1.94494951e+00  1.17679726e-01 -2.46077762e-01  6.81012652e-01\n",
      "   2.18724090e-01  2.43714659e-01  6.49210801e-02  3.31195378e-03\n",
      "  -4.95237525e-02  2.06511190e-02  8.81082615e-03  1.30063074e-02\n",
      "  -9.30253977e-03  2.48627623e-05  6.27083655e-03  3.12792045e-15]\n",
      " [ 2.34388036e+00  1.58833028e-01 -1.57875859e-01  3.51347881e-01\n",
      "   4.92653238e-01  1.48651386e-02 -7.72437684e-02 -7.37279583e-02\n",
      "   2.84152068e-02 -5.59547019e-02  1.21274207e-02 -1.39176831e-02\n",
      "   1.67151242e-04 -6.67416745e-03 -3.85389054e-03 -1.37298700e-15]\n",
      " [ 1.03759933e+00 -7.34157574e-01  4.31161058e-01  5.56610235e-01\n",
      "   1.53884371e-01 -2.94862280e-01 -2.05643869e-01  1.65841962e-03\n",
      "   2.18315284e-02  2.49080838e-02 -1.68523098e-03  1.78193291e-02\n",
      "   2.18712691e-03  6.28294078e-03  2.02560894e-03  5.00152271e-16]\n",
      " [-1.78513397e+00 -3.40793202e-01  5.45930503e-01  9.56189336e-01\n",
      "  -1.90512300e-01 -8.50863998e-02  6.92827131e-03  1.03427449e-01\n",
      "  -1.07104694e-01 -1.44718094e-02 -2.40271178e-03 -1.73450848e-02\n",
      "  -9.58761554e-04 -5.34841884e-03 -1.45536078e-03  6.82863133e-16]\n",
      " [-1.76372745e+00  1.39467441e+00 -5.48466959e-01 -9.99502398e-02\n",
      "   1.46757106e-01  1.33904008e-01 -1.47503815e-01  2.01219785e-01\n",
      "   3.95322476e-02 -8.95114994e-04  6.81532078e-03  1.23891212e-02\n",
      "  -6.06893289e-03  3.61764272e-03 -3.25918216e-03  2.09427016e-15]]\n",
      "(16, 16)\n"
     ]
    }
   ],
   "source": [
    "Ca = pcaproj(firstdigit, meanvecta, Va) \n",
    "print(Ca)\n",
    "print(Ca.shape)"
   ]
  },
  {
   "cell_type": "code",
   "execution_count": 89,
   "id": "f03b83cc",
   "metadata": {},
   "outputs": [
    {
     "name": "stdout",
     "output_type": "stream",
     "text": [
      "[[ 2.24611504e-02  1.57475807e-01  3.99470503e-01  8.17202157e-01\n",
      "   1.20452327e+00  1.21200266e+00  8.77530045e-01  3.75135960e-01\n",
      "  -2.55496047e-01 -3.60783976e-01 -1.24391338e-01 -1.48104990e-01\n",
      "  -1.26974755e-01 -1.22554814e-02  6.00870390e-02  4.91504507e-03]\n",
      " [ 3.72733076e-02  1.73997200e-01  5.07934540e-01  1.09394569e+00\n",
      "   1.27019647e+00  1.35705562e+00  1.55228123e+00  1.86770948e+00\n",
      "   1.67297636e+00  1.04155850e+00  4.64778091e-01 -1.11316411e-02\n",
      "  -1.74673998e-01 -1.36035854e-01  9.29181531e-03  1.16675034e-02]\n",
      " [-4.45369396e-02  7.50494727e-03  1.03215810e-01  3.22086431e-01\n",
      "   3.40627892e-01  5.33318909e-01  9.86433165e-01  1.67120421e+00\n",
      "   1.86021172e+00  1.70233576e+00  1.33218791e+00  6.40944454e-01\n",
      "   1.82908042e-01 -9.32659800e-03 -1.33542925e-02  3.85653302e-02]\n",
      " [-4.31759043e-02 -1.37932665e-01 -1.41332165e-01 -4.06801088e-02\n",
      "  -1.53078460e-01 -3.59346381e-01 -2.46521336e-01  7.72012314e-02\n",
      "   4.72539807e-01  8.86895087e-01  1.35105757e+00  1.29722943e+00\n",
      "   7.08367273e-01  1.18570153e-01 -8.60580556e-02 -2.09578569e-02]\n",
      " [-3.80216964e-02 -1.41511368e-01 -1.63410873e-01  1.49035526e-01\n",
      "   3.09743174e-01  3.43682551e-01  1.92524437e-01  3.46664343e-01\n",
      "   7.29528741e-01  1.11419360e+00  1.88223188e+00  1.86794876e+00\n",
      "   1.10312213e+00  2.20988563e-01 -1.36129652e-01 -3.77940495e-02]\n",
      " [-1.54609365e-03 -5.04614038e-02 -1.45083900e-01  3.13434633e-01\n",
      "   1.05161148e+00  1.65005759e+00  1.46904202e+00  1.49793176e+00\n",
      "   1.71630581e+00  1.82126205e+00  2.05855110e+00  1.97643275e+00\n",
      "   9.82648827e-01  3.55157972e-02 -1.61976859e-01 -6.71913734e-02]\n",
      " [ 6.04539283e-02  6.89273756e-02 -1.48457518e-01  2.06541647e-01\n",
      "   1.27033562e+00  2.16850701e+00  2.32952129e+00  2.22496537e+00\n",
      "   1.97399986e+00  1.49470952e+00  1.35231203e+00  1.36917614e+00\n",
      "   5.16271101e-01 -2.54430651e-01 -1.20341112e-01 -3.05709364e-02]\n",
      " [ 1.02239848e-01  1.27050101e-01 -3.62258492e-02  1.02333255e-01\n",
      "   6.87321332e-01  1.36824600e+00  1.77171705e+00  1.82550179e+00\n",
      "   1.26175162e+00  5.71270025e-01  9.40763667e-02  3.39098034e-01\n",
      "   9.09510216e-02 -1.98652551e-01 -5.97611955e-02  4.34084742e-02]\n",
      " [ 1.36741118e-01  1.44321967e-01  3.48877842e-02  1.53258712e-02\n",
      "  -5.93196910e-02  1.34655415e-01  9.10958127e-01  1.41988294e+00\n",
      "   1.33322517e+00  7.47439736e-01 -1.62882012e-01 -3.65153769e-01\n",
      "  -1.00145860e-01  9.10550813e-03  6.87157160e-02  1.08611519e-01]\n",
      " [ 7.46885946e-02  5.22262668e-02  7.08577680e-02 -1.00897723e-01\n",
      "  -4.90661822e-01 -2.68819394e-01  2.51545450e-01  8.79120596e-01\n",
      "   1.44655488e+00  1.53666625e+00  5.64567699e-01 -1.22972815e-01\n",
      "  -5.22201557e-02  1.66395996e-01  1.66654758e-01  1.18467849e-01]\n",
      " [-3.56426984e-02 -1.55827288e-01  6.29098320e-02  2.06483457e-01\n",
      "  -7.32660175e-02 -5.43970011e-02 -6.08390724e-02  1.94954633e-01\n",
      "   8.64396035e-01  1.74815882e+00  1.41670921e+00  3.26298733e-01\n",
      "  -7.43462427e-03  6.70172207e-02  8.01015248e-02  4.62330480e-02]\n",
      " [-1.32335439e-01 -2.94515147e-01 -3.81086101e-04  2.24098943e-01\n",
      "   1.08345064e-01  7.93008908e-02 -1.42565953e-01 -2.06990887e-01\n",
      "   2.36075513e-01  1.54128029e+00  1.71337380e+00  5.15408040e-01\n",
      "  -1.22160211e-01 -8.30210287e-02 -6.15495954e-02 -7.79903229e-02]\n",
      " [-5.86370428e-02 -8.92671232e-02 -7.18389152e-02 -2.30950480e-01\n",
      "  -1.78351088e-01 -1.19206689e-01 -3.21757944e-01 -3.02353501e-01\n",
      "   1.61428553e-01  1.49383574e+00  1.69750252e+00  6.10615575e-01\n",
      "  -1.19748013e-01 -1.15153649e-01 -1.07896944e-01 -1.08072766e-01]\n",
      " [ 7.11524468e-02  2.08702456e-01  3.15519616e-01  1.12070652e-01\n",
      "   1.18082898e-01  3.62921734e-01  4.03624933e-01  5.35113296e-01\n",
      "   1.08069905e+00  2.02155791e+00  1.88884143e+00  7.86609921e-01\n",
      "  -3.84560058e-02 -4.19689255e-02 -4.69910969e-02 -3.22399112e-02]\n",
      " [ 3.25187190e-02  2.33849056e-01  5.66656384e-01  1.00139981e+00\n",
      "   1.17748418e+00  1.51657397e+00  1.81459066e+00  1.77808448e+00\n",
      "   1.72080521e+00  1.78536743e+00  1.05109836e+00  8.98894875e-02\n",
      "  -1.99335649e-01 -6.90284254e-02 -7.66271265e-03  5.17827666e-02]\n",
      " [ 3.31216369e-03  8.27853388e-02  2.54050827e-01  5.76088833e-01\n",
      "   1.04306299e+00  1.45852511e+00  1.77670175e+00  1.68334430e+00\n",
      "   6.91984208e-01  5.64774499e-02  1.34279555e-02 -1.91164380e-01\n",
      "  -1.38433043e-01 -4.35170869e-02 -1.15869810e-02  1.26205254e-02]]\n",
      "(16, 16)\n"
     ]
    }
   ],
   "source": [
    "Xhata = reconstructpca(Ca, Va, meanvecta) \n",
    "print(Xhata)\n",
    "print(Xhata.shape)"
   ]
  },
  {
   "cell_type": "code",
   "execution_count": 91,
   "id": "fd35fdf4",
   "metadata": {},
   "outputs": [
    {
     "data": {
      "text/plain": [
       "array([[-6.52256027e-16,  3.33066907e-15, -4.49640325e-15,\n",
       "         4.55191440e-15, -4.21884749e-15, -1.11022302e-15,\n",
       "         2.22044605e-16,  2.22044605e-15, -1.66533454e-15,\n",
       "        -1.77635684e-15,  2.44249065e-15, -6.10622664e-16,\n",
       "        -4.99600361e-16, -2.12677098e-15, -1.64451786e-15,\n",
       "        -6.94930224e-15],\n",
       "       [ 8.95117314e-16, -3.10862447e-15,  1.22124533e-15,\n",
       "        -3.55271368e-15,  5.77315973e-15, -4.44089210e-15,\n",
       "         2.22044605e-15, -1.55431223e-15, -2.22044605e-16,\n",
       "         2.88657986e-15, -1.27675648e-15,  3.33066907e-16,\n",
       "        -1.66533454e-16,  1.74860126e-15,  1.12410081e-15,\n",
       "         6.22592256e-15],\n",
       "       [-5.00988140e-15,  6.90072999e-15, -3.38618023e-15,\n",
       "         5.44009282e-15, -8.04911693e-15,  8.21565038e-15,\n",
       "        -2.22044605e-15, -2.66453526e-15,  1.55431223e-15,\n",
       "         2.44249065e-15, -2.66453526e-15, -1.44328993e-15,\n",
       "         3.94129174e-15,  2.18575158e-16,  1.70002901e-16,\n",
       "        -4.85028684e-15],\n",
       "       [ 6.31439345e-15,  9.43689571e-16, -2.44249065e-15,\n",
       "         3.16413562e-15, -3.60822483e-15,  3.10862447e-15,\n",
       "        -1.11022302e-16, -1.99840144e-15,  9.43689571e-16,\n",
       "        -1.44328993e-15, -1.11022302e-15,  2.44249065e-15,\n",
       "        -4.10782519e-15,  3.49720253e-15, -2.13717932e-15,\n",
       "        -3.15025783e-15],\n",
       "       [-1.67921232e-15, -5.91193761e-15,  9.15933995e-15,\n",
       "        -9.90874049e-15,  7.43849426e-15, -2.10942375e-15,\n",
       "        -1.99840144e-15,  1.88737914e-15, -1.66533454e-15,\n",
       "         1.11022302e-15, -2.22044605e-16, -2.44249065e-15,\n",
       "         4.21884749e-15, -2.80331314e-15, -3.24740235e-15,\n",
       "         9.50628465e-15],\n",
       "       [-4.61956862e-15,  4.19109192e-15, -9.18709553e-15,\n",
       "         8.65973959e-15, -7.77156117e-15, -4.44089210e-16,\n",
       "         3.55271368e-15,  1.33226763e-15, -1.11022302e-15,\n",
       "        -2.22044605e-15,  2.66453526e-15,  1.55431223e-15,\n",
       "        -3.77475828e-15, -2.01921813e-15,  1.01030295e-14,\n",
       "        -5.89805982e-15],\n",
       "       [ 7.63278329e-15, -5.63438185e-15,  2.72004641e-15,\n",
       "        -6.16173779e-15,  6.66133815e-15, -4.44089210e-15,\n",
       "         8.88178420e-16,  0.00000000e+00,  4.44089210e-16,\n",
       "         1.11022302e-15,  8.88178420e-16, -4.21884749e-15,\n",
       "         1.88737914e-15,  3.38618023e-15, -5.93969318e-15,\n",
       "        -1.35308431e-16],\n",
       "       [-1.08107967e-14,  3.83026943e-15,  5.27355937e-16,\n",
       "         4.02455846e-15, -7.10542736e-15,  4.21884749e-15,\n",
       "        -2.22044605e-15,  1.77635684e-15, -2.66453526e-15,\n",
       "         2.44249065e-15, -2.99760217e-15,  3.10862447e-15,\n",
       "        -5.55111512e-17, -2.05391260e-15, -3.04617442e-15,\n",
       "         4.77395901e-15],\n",
       "       [ 6.07847106e-15, -4.71844785e-16, -1.77635684e-15,\n",
       "         2.22044605e-16,  3.16413562e-15, -3.71924713e-15,\n",
       "         4.10782519e-15, -3.10862447e-15,  2.44249065e-15,\n",
       "        -2.55351296e-15,  4.21884749e-15, -2.99760217e-15,\n",
       "         3.10862447e-15, -3.96904731e-15,  8.02136135e-15,\n",
       "        -8.06299472e-15],\n",
       "       [-2.69229083e-15, -3.67761377e-15, -6.24500451e-16,\n",
       "        -1.11022302e-16,  3.71924713e-15, -1.33226763e-15,\n",
       "        -2.16493490e-15,  5.10702591e-15, -3.10862447e-15,\n",
       "         0.00000000e+00,  6.66133815e-16,  1.66533454e-15,\n",
       "        -2.88657986e-15,  1.24900090e-15, -2.77555756e-15,\n",
       "         4.87110352e-15],\n",
       "       [-3.85802501e-15, -4.80171458e-15, -2.19269047e-15,\n",
       "         0.00000000e+00,  1.16573418e-15,  1.33226763e-15,\n",
       "        -1.22124533e-15, -2.55351296e-15,  4.44089210e-15,\n",
       "        -2.66453526e-15,  1.11022302e-15, -2.88657986e-15,\n",
       "         3.05311332e-16,  8.04911693e-16, -6.57807142e-15,\n",
       "        -1.38083989e-15],\n",
       "       [ 3.99680289e-15, -3.10862447e-15, -3.23352456e-15,\n",
       "         5.55111512e-17,  3.88578059e-15,  1.44328993e-15,\n",
       "        -5.32907052e-15,  4.10782519e-15, -5.55111512e-15,\n",
       "         6.66133815e-15, -6.21724894e-15,  1.77635684e-15,\n",
       "         1.94289029e-15, -1.24900090e-16,  9.31199562e-15,\n",
       "        -4.28823643e-15],\n",
       "       [-3.99680289e-15,  2.62290190e-15,  7.21644966e-16,\n",
       "        -1.49880108e-15,  2.77555756e-16,  1.55431223e-15,\n",
       "         4.44089210e-16, -6.10622664e-15,  5.10702591e-15,\n",
       "        -4.44089210e-15,  1.99840144e-15, -1.11022302e-15,\n",
       "         1.66533454e-16, -1.52655666e-15, -3.16413562e-15,\n",
       "         9.31199562e-15],\n",
       "       [ 4.81559237e-15,  5.02375919e-15,  6.43929354e-15,\n",
       "        -1.13797860e-15, -3.88578059e-16, -4.16333634e-15,\n",
       "         4.05231404e-15,  2.99760217e-15, -3.99680289e-15,\n",
       "         0.00000000e+00,  1.33226763e-15,  3.77475828e-15,\n",
       "        -2.49800181e-15,  6.31439345e-16,  2.28983499e-15,\n",
       "        -6.10622664e-15],\n",
       "       [-1.51267887e-15,  2.02615702e-15,  2.44249065e-15,\n",
       "         1.33226763e-15, -3.99680289e-15,  1.99840144e-15,\n",
       "         2.22044605e-16, -4.44089210e-16,  2.88657986e-15,\n",
       "        -2.88657986e-15,  2.44249065e-15, -4.99600361e-16,\n",
       "        -9.99200722e-16, -1.63757896e-15, -4.44436155e-15,\n",
       "         3.62904151e-15],\n",
       "       [ 5.09141340e-15, -2.09554596e-15,  4.10782519e-15,\n",
       "        -4.55191440e-15,  3.33066907e-15,  0.00000000e+00,\n",
       "         4.44089210e-16, -3.10862447e-15,  1.77635684e-15,\n",
       "         1.55431223e-15, -2.60902411e-15,  1.74860126e-15,\n",
       "        -4.44089210e-16,  4.63518113e-15,  1.86829718e-15,\n",
       "         2.45463372e-15]])"
      ]
     },
     "execution_count": 91,
     "metadata": {},
     "output_type": "execute_result"
    }
   ],
   "source": [
    "Xhata-firstdigit"
   ]
  },
  {
   "cell_type": "markdown",
   "id": "306fb4d6",
   "metadata": {},
   "source": [
    "# Etant donné que le nombre de eigen values à retenir est 3, donc on va appliquer la reconstruction pca sur la base des 3 eigen vectors"
   ]
  },
  {
   "cell_type": "code",
   "execution_count": 101,
   "id": "0f47b496",
   "metadata": {},
   "outputs": [
    {
     "name": "stdout",
     "output_type": "stream",
     "text": [
      "(16, 3)\n",
      "(16, 3)\n",
      "[[ 1.42986312e-03  5.84564372e-02  2.41041308e-01  6.37465636e-01\n",
      "   1.05338529e+00  1.11308289e+00  9.56388287e-01  5.40211912e-01\n",
      "  -2.73814725e-01 -5.16203568e-01 -1.68856261e-01 -6.82953530e-02\n",
      "  -5.36515508e-02 -4.70563048e-02 -1.01627187e-02 -1.66865192e-02]\n",
      " [ 7.03905910e-02  1.76343972e-01  2.61961893e-01  5.79508780e-01\n",
      "   9.60391829e-01  1.41222998e+00  1.79942453e+00  1.94458361e+00\n",
      "   1.55966388e+00  9.53490115e-01  3.47724694e-01  6.07858666e-02\n",
      "  -6.63704010e-02 -1.02410469e-01  1.26826509e-02  5.11641213e-02]\n",
      " [ 3.81900253e-02  6.31302329e-02  1.02292035e-01  2.30639433e-01\n",
      "   3.27803761e-01  6.94680208e-01  1.06996802e+00  1.48561702e+00\n",
      "   1.80641034e+00  1.87256822e+00  1.28715493e+00  5.87050261e-01\n",
      "   1.29507394e-01 -3.43169385e-02 -1.00586202e-02  3.47371613e-02]\n",
      " [-5.55293256e-02 -1.41370096e-01 -5.70769879e-02  2.93873748e-02\n",
      "   3.70114144e-03 -3.90312306e-02 -2.24042284e-01 -1.61567476e-01\n",
      "   2.86409889e-01  1.21120926e+00  1.61323132e+00  1.00415195e+00\n",
      "   3.62488547e-01  6.65805873e-02 -6.56106322e-02 -5.10495565e-02]\n",
      " [-6.72265620e-02 -1.54534755e-01 -1.32506736e-01  1.16470830e-01\n",
      "   4.40913519e-01  5.78920904e-01  2.44249669e-01  1.71195499e-01\n",
      "   5.48963424e-01  1.37886111e+00  2.07493195e+00  1.69056915e+00\n",
      "   7.20860204e-01  3.64118789e-02 -1.49609467e-01 -9.19962296e-02]\n",
      " [-1.67029407e-02 -2.91673173e-02 -8.21752933e-02  3.50276935e-01\n",
      "   1.07635457e+00  1.62526603e+00  1.50557809e+00  1.50298036e+00\n",
      "   1.66742765e+00  1.82249536e+00  2.16539190e+00  1.96073954e+00\n",
      "   8.61242788e-01 -5.77882031e-02 -1.84458436e-01 -7.27481356e-02]\n",
      " [ 3.72368638e-02  1.07318229e-01  8.08072251e-02  5.79070700e-01\n",
      "   1.39390093e+00  2.08079934e+00  2.21280955e+00  2.23578956e+00\n",
      "   2.00657637e+00  1.53009045e+00  1.42077400e+00  1.33283481e+00\n",
      "   5.69174702e-01 -1.20671610e-01 -1.27769518e-01 -2.12431725e-02]\n",
      " [ 5.50317344e-02  1.47842937e-01  2.43520496e-01  5.80863481e-01\n",
      "   9.85571375e-01  1.37698347e+00  1.64979800e+00  1.69248248e+00\n",
      "   1.25670602e+00  7.42228990e-01  3.39718144e-01  1.24121613e-01\n",
      "  -2.23843846e-02 -9.15425764e-02 -1.57404944e-04  3.41711311e-02]\n",
      " [ 6.69172052e-02  1.37896093e-01  2.89164572e-01  3.30874940e-01\n",
      "   1.59010342e-01  3.21955834e-01  8.53321312e-01  1.24003940e+00\n",
      "   1.20346243e+00  1.01863154e+00  1.20215760e-01 -5.90949147e-01\n",
      "  -4.33481222e-01 -3.26960601e-02  1.06874177e-01  9.08857784e-02]\n",
      " [ 4.18760668e-02  5.12164040e-02  1.73886058e-01  6.63870030e-02\n",
      "  -3.37660387e-01 -2.58642759e-01  2.59536368e-01  8.42793630e-01\n",
      "   1.32724952e+00  1.65936465e+00  7.81762334e-01 -2.42155217e-01\n",
      "  -3.08359567e-01  2.13481582e-02  9.43741974e-02  7.94159572e-02]\n",
      " [-9.61194459e-03 -5.55822354e-02  3.71230664e-02  1.51893357e-02\n",
      "  -2.08444023e-01 -1.80155654e-01 -1.34607297e-02  3.40726596e-01\n",
      "   8.85947808e-01  1.57257159e+00  1.33653374e+00  4.82636048e-01\n",
      "   7.01656736e-02  4.81937526e-02  7.13301314e-03  1.12085937e-02]\n",
      " [-4.05151879e-02 -1.12010506e-01 -1.73964759e-02  3.11650486e-02\n",
      "  -7.15066066e-02 -1.09148722e-01 -1.82820720e-01 -3.83112140e-02\n",
      "   4.14372764e-01  1.25599507e+00  1.45386056e+00  7.72605489e-01\n",
      "   2.39338835e-01  6.17469509e-02 -3.65354539e-02 -2.93342555e-02]\n",
      " [-4.65871975e-02 -1.32700698e-01 -3.29499541e-02 -3.51221375e-02\n",
      "  -2.32290701e-01 -3.24249904e-01 -3.98743166e-01 -2.12451346e-01\n",
      "   3.47391082e-01  1.32413051e+00  1.51878574e+00  7.53525687e-01\n",
      "   2.19734475e-01  7.90803245e-02 -2.89701012e-02 -2.86319813e-02]\n",
      " [-8.50021683e-03 -4.96556599e-02 -3.41417240e-03  5.92322993e-02\n",
      "   3.27388794e-02  2.08763210e-01  3.50877425e-01  6.89986045e-01\n",
      "   1.24183179e+00  1.83191930e+00  1.65716073e+00  8.89230057e-01\n",
      "   2.73597609e-01  2.45636327e-02 -3.83628670e-02 -4.58665939e-03]\n",
      " [ 6.67932919e-02  1.56353497e-01  2.04838529e-01  5.00610944e-01\n",
      "   8.82218474e-01  1.39584106e+00  1.80566809e+00  2.05333841e+00\n",
      "   1.88643880e+00  1.39659591e+00  7.58265942e-01  3.70473523e-01\n",
      "   6.56229773e-02 -9.73428590e-02 -9.93712265e-03  4.49637919e-02]\n",
      " [ 5.37531962e-02  1.63788986e-01  2.99657194e-01  6.95497993e-01\n",
      "   1.16056890e+00  1.48578333e+00  1.67623343e+00  1.54005552e+00\n",
      "   8.01949417e-01  1.48275698e-01 -1.13212918e-01 -1.46200552e-01\n",
      "  -1.22800000e-01 -9.98972761e-02  1.21106584e-02  3.11848183e-02]]\n",
      "(16, 16)\n"
     ]
    }
   ],
   "source": [
    "VRa=Va[:,:3]\n",
    "CRa=Ca[:,:3]\n",
    "print(VRa.shape)\n",
    "print(CRa.shape)\n",
    "XhatRa = reconstructpca(CRa, VRa, meanvecta) \n",
    "print(XhatRa)\n",
    "print(XhatRa.shape)"
   ]
  },
  {
   "cell_type": "code",
   "execution_count": 103,
   "id": "bfbf159f",
   "metadata": {},
   "outputs": [
    {
     "data": {
      "text/plain": [
       "<matplotlib.image.AxesImage at 0x1fd95f79be0>"
      ]
     },
     "execution_count": 103,
     "metadata": {},
     "output_type": "execute_result"
    },
    {
     "data": {
      "image/png": "[encoded data removed]",
      "text/plain": [
       "<Figure size 432x288 with 1 Axes>"
      ]
     },
     "metadata": {
      "needs_background": "light"
     },
     "output_type": "display_data"
    }
   ],
   "source": [
    "firstdigit=np.reshape(Xall[15,:], (16, 16)) \n",
    "plt.imshow(firstdigit, cmap='gray')"
   ]
  },
  {
   "cell_type": "code",
   "execution_count": null,
   "id": "279d7347",
   "metadata": {},
   "outputs": [],
   "source": [
    "# ci-aprés l'image obtenue suite à la reconstruction, on remarque que l'image a été reconstruite néanmoins  elle est un peu flouté mais on a perdu de l'information en niveau de gris."
   ]
  },
  {
   "cell_type": "code",
   "execution_count": 104,
   "id": "0f79b2e1",
   "metadata": {},
   "outputs": [
    {
     "data": {
      "text/plain": [
       "<matplotlib.image.AxesImage at 0x1fd96d5b310>"
      ]
     },
     "execution_count": 104,
     "metadata": {},
     "output_type": "execute_result"
    },
    {
     "data": {
      "image/png": "[encoded data removed]",
      "text/plain": [
       "<Figure size 432x288 with 1 Axes>"
      ]
     },
     "metadata": {
      "needs_background": "light"
     },
     "output_type": "display_data"
    }
   ],
   "source": [
    "plt.imshow(XhatRa, cmap='gray')"
   ]
  }
 ],
 "metadata": {
  "kernelspec": {
   "display_name": "Python 3",
   "language": "python",
   "name": "python3"
  },
  "language_info": {
   "codemirror_mode": {
    "name": "ipython",
    "version": 3
   },
   "file_extension": ".py",
   "mimetype": "text/x-python",
   "name": "python",
   "nbconvert_exporter": "python",
   "pygments_lexer": "ipython3",
   "version": "3.8.8"
  }
 },
 "nbformat": 4,
 "nbformat_minor": 5
}
